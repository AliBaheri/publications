{
 "metadata": {
  "name": ""
 },
 "nbformat": 3,
 "nbformat_minor": 0,
 "worksheets": [
  {
   "cells": [
    {
     "cell_type": "code",
     "collapsed": false,
     "input": [
      "import numpy as np\n",
      "import matplotlib.pyplot as plt\n",
      "import pylab\n"
     ],
     "language": "python",
     "metadata": {},
     "outputs": [],
     "prompt_number": 5
    },
    {
     "cell_type": "code",
     "collapsed": false,
     "input": [
      "def load_data(filename):\n",
      "    with open(filename) as f:\n",
      "        count = 0\n",
      "        myarray = []\n",
      "        for line in f:\n",
      "            count = count + 1\n",
      "            myarray.append([float(x) for x in line.split()])\n",
      "        myarray = np.asarray(myarray) # convert into numpy array\n",
      "        print (\"length of array: \" + str(len(myarray)))\n",
      "    return myarray"
     ],
     "language": "python",
     "metadata": {},
     "outputs": [],
     "prompt_number": 6
    },
    {
     "cell_type": "code",
     "collapsed": false,
     "input": [
      "Name_A = [\"../dat/ARX_SSTATS_batch_300_seed_1_GradComp_\"+str(ii)+\"_rhot_1e-3_likely.dat\" for ii in [1,10,100,1000,10000,\"inf\"]]\n",
      "Name_B = [\"../dat/NYT_SSTATS_batch_300_seed_1_GradComp_\"+str(ii)+\"_rhot_1e-3_likely.dat\" for ii in [1,10,100,1000,10000,\"inf\"]]\n",
      "Name_C = [\"../dat/WIKI_SSTATS_batch_300_seed_1_GradComp_\"+str(ii)+\"_rhot_1e-3_likely.dat\" for ii in [1,10,100,1000,10000,\"inf\"]]\n",
      "\n",
      "datA = [load_data(Name_A[ii]) for ii in range(0,6)]\n",
      "datB = [load_data(Name_B[ii]) for ii in range(0,6)]\n",
      "datC = [load_data(Name_C[ii]) for ii in range(0,6)]\n",
      "\n",
      "labels = [\"L = 1 (SVI)\",\"L = 10\",\"L = 100\",\"L = 1000\",\"L = 10000\",\"L = inf\"]\n",
      "lines = [\"--\",\"-\",\"-\",\"-\",\"-\",\"k-.\"]"
     ],
     "language": "python",
     "metadata": {},
     "outputs": [
      {
       "output_type": "stream",
       "stream": "stdout",
       "text": [
        "length of array: 191\n",
        "length of array: 191\n",
        "length of array: 191\n",
        "length of array: 190\n",
        "length of array: 189\n",
        "length of array: 189\n",
        "length of array: 194\n",
        "length of array: 194\n",
        "length of array: 194\n",
        "length of array: 194\n",
        "length of array: 194\n",
        "length of array: 194\n",
        "length of array: 181\n",
        "length of array: 181\n",
        "length of array: 181\n",
        "length of array: 181\n",
        "length of array: 180\n",
        "length of array: 180\n"
       ]
      }
     ],
     "prompt_number": 7
    },
    {
     "cell_type": "code",
     "collapsed": false,
     "input": [
      "f, (ax1,ax2,ax3) = plt.subplots(1, 3)\n",
      "\n",
      "matplotlib.rcParams.update({'font.size': 15})\n",
      "matplotlib.rcParams.update({'figure.autolayout': True})\n",
      "\n",
      "# Numbers of documents are 882000, 1700000, and 3600000 for ARX, NYT and WIKI respectively.\n",
      "# x-axis: plot effective passes (iterations * minibatch / number of documents).\n",
      "\n",
      "for i in range(0,6):\n",
      "    ax1.plot(300*datA[i][:,0]/882000.,datA[i][:,2],lines[i],label=labels[i],linewidth=2)\n",
      "ax1.set_xlim((0,30))\n",
      "ax1.set_ylim((-8.3,-7.8))\n",
      "ax1.set_xlabel(\"effective passes\")\n",
      "ax1.set_ylabel(\"log predictive likelihood\")\n",
      "ax1.set_title(\"Arxiv\")\n",
      "ax1.legend(\"lower right\")\n",
      "\n",
      "\n",
      "for i in range(0,6):\n",
      "    ax2.plot(300*datB[i][:,0]/1700000.,datB[i][:,2],lines[i],label=labels[i],linewidth=2)\n",
      "ax2.set_xlim((0,5))\n",
      "ax2.set_ylim((-8.2,-7.65))\n",
      "ax2.set_xlabel(\"effective passes\")\n",
      "ax2.set_title(\"New York Times\")\n",
      "\n",
      "\n",
      "for i in range(0,6):\n",
      "    ax3.plot(300*datC[i][:,0]/3600000.,datC[i][:,2],lines[i],label=labels[i],linewidth=2)\n",
      "ax3.set_xlim((0,6))\n",
      "ax3.set_ylim((-7.7,-7.3))\n",
      "ax3.set_xlabel(\"effective passes\")\n",
      "ax3.set_title(\"Wikipedia\")\n",
      "\n",
      "leg = ax1.legend(loc='lower right') \n",
      "leg._drawFrame=False\n",
      "\n",
      "\n"
     ],
     "language": "python",
     "metadata": {},
     "outputs": [],
     "prompt_number": 8
    },
    {
     "cell_type": "code",
     "collapsed": false,
     "input": [],
     "language": "python",
     "metadata": {},
     "outputs": []
    }
   ],
   "metadata": {}
  }
 ]
}