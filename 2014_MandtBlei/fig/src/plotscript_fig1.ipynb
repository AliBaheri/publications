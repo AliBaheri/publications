{
 "metadata": {
  "name": ""
 },
 "nbformat": 3,
 "nbformat_minor": 0,
 "worksheets": [
  {
   "cells": [
    {
     "cell_type": "code",
     "collapsed": false,
     "input": [
      "import numpy as np\n",
      "import matplotlib.pyplot as plt\n",
      "import pylab"
     ],
     "language": "python",
     "metadata": {},
     "outputs": [],
     "prompt_number": 1
    },
    {
     "cell_type": "code",
     "collapsed": false,
     "input": [
      "def load_data(filename):\n",
      "    with open(filename) as f:\n",
      "        count = 0\n",
      "        myarray = []\n",
      "        for line in f:\n",
      "            count = count + 1\n",
      "            myarray.append([float(x) for x in line.split()])\n",
      "        myarray = np.asarray(myarray) # convert into numpy array\n",
      "        print (\"length of array: \" + str(len(myarray)))\n",
      "    return myarray"
     ],
     "language": "python",
     "metadata": {},
     "outputs": [],
     "prompt_number": 2
    },
    {
     "cell_type": "code",
     "collapsed": false,
     "input": [
      "batch = \"300\"\n",
      "BASE = \"../dat/ARX_BIAS_VAR_SSTATS\"\n",
      "\n",
      "rhot = 2\n",
      "gradComps = [3,3,10,30,100,300] \n",
      "\n",
      "def fName(ii):\n",
      "    return BASE + \"_batch_\"+batch+\"_seed_1_GradComp_\"+str(ii)+\"_rhot_1e-\"+str(rhot)+\"_likely.dat\"\n",
      "\n",
      "\n",
      "datA = [load_data(fName(ii)) for ii in gradComps]\n",
      "\n",
      "def mylabel(i): # returns a string that indicates L\n",
      "    if i == 0:\n",
      "        return \"\"\n",
      "    return \"L = \" + str(gradComps[i])\n",
      "\n",
      "    \n"
     ],
     "language": "python",
     "metadata": {},
     "outputs": [
      {
       "output_type": "stream",
       "stream": "stdout",
       "text": [
        "length of array: 5007\n",
        "length of array: 5007"
       ]
      },
      {
       "output_type": "stream",
       "stream": "stdout",
       "text": [
        "\n",
        "length of array: 4221"
       ]
      },
      {
       "output_type": "stream",
       "stream": "stdout",
       "text": [
        "\n",
        "length of array: 5027"
       ]
      },
      {
       "output_type": "stream",
       "stream": "stdout",
       "text": [
        "\n",
        "length of array: 5046"
       ]
      },
      {
       "output_type": "stream",
       "stream": "stdout",
       "text": [
        "\n",
        "length of array: 4764"
       ]
      },
      {
       "output_type": "stream",
       "stream": "stdout",
       "text": [
        "\n"
       ]
      }
     ],
     "prompt_number": 3
    },
    {
     "cell_type": "code",
     "collapsed": false,
     "input": [
      "# A single plot of the array\n",
      "\n",
      "plt.close()\n",
      "\n",
      "for i in range(0,6):\n",
      "    plt.plot(datA[i][:,0],datA[i][:,4],\"-\",label = mylabel(i),linewidth=3.)\n",
      "\n",
      "matplotlib.rcParams.update({'font.size': 15})\n",
      "leg = plt.legend(loc='lower left') \n",
      "leg._drawFrame=False\n",
      "plt.title('ARX data, B = '+ batch + ', learning rate 1e-'+str(rhot))\n",
      "plt.xlabel(\"number of iterations\")\n",
      "plt.ylabel(\"squared bias\")\n",
      "plt.yscale(\"log\")\n",
      "plt.xscale(\"log\")\n",
      "plt.xlim((3,1500))\n",
      "plt.ylim((1e-0,1e+7))\n"
     ],
     "language": "python",
     "metadata": {},
     "outputs": [
      {
       "metadata": {},
       "output_type": "pyout",
       "prompt_number": 4,
       "text": [
        "(1.0, 10000000.0)"
       ]
      }
     ],
     "prompt_number": 4
    },
    {
     "cell_type": "code",
     "collapsed": false,
     "input": [
      "# Plot for the entire array (fig. 1).\n",
      "\n",
      "plt.close()\n",
      "matplotlib.rcParams.update({'font.size': 15})\n",
      "matplotlib.rcParams.update({'figure.autolayout': True})\n",
      "\n",
      "\n",
      "f, ((ax1,ax2,ax3),(ax4,ax5,ax6)) = plt.subplots(2,3)\n",
      "    \n",
      "######## FIRST ROW #################\n",
      "\n",
      "    \n",
      "ax1.plot(datA[3][:,0],datA[3][:,4],\"--\",label = \"sq. bias\",linewidth=3., rasterized=True)\n",
      "ax1.plot(datA[3][:,0],datA[3][:,5],\"-\",label = \"variance\",linewidth=3., rasterized=True)\n",
      "ax1.plot(datA[3][:,0],datA[3][:,4]+datA[3][:,5],\"-\",label = \"sq. bias + variance\",linewidth=3., rasterized=True)\n",
      "ax1.plot(datA[3][:,0],datA[3][:,6],\"k-\",label = \"squared error\",linewidth=1.5, rasterized=True)\n",
      "ax1.set_ylabel(\"log scale\")\n",
      "ax1.set_xlabel(\"iterations\")\n",
      "ax1.set_title(\"L=30\")\n",
      "ax1.set_yscale(\"log\")\n",
      "ax1.set_xscale(\"log\")\n",
      "ax1.set_xlim((3,3000))\n",
      "ax1.set_ylim((1e+1,1e+7))\n",
      "\n",
      "\n",
      "ax2.plot(datA[4][:,0],datA[4][:,4],\"--\",label = \"bias\",linewidth=3., rasterized=True)\n",
      "ax2.plot(datA[4][:,0],datA[4][:,5],\"-\",label = \"variance\",linewidth=3., rasterized=True)\n",
      "ax2.plot(datA[4][:,0],datA[4][:,4]+datA[4][:,5],\"-\",label = \"bias + variance\",linewidth=3., rasterized=True)\n",
      "ax2.plot(datA[4][:,0],datA[4][:,6],\"k-\",label = \"squared error\",linewidth=1.5, rasterized=True)\n",
      "ax2.set_title(\"L=100\")\n",
      "ax2.set_xlabel(\"iterations\")\n",
      "ax2.set_yscale(\"log\")\n",
      "ax2.set_xscale(\"log\")\n",
      "ax2.set_xlim((3,3000))\n",
      "ax2.set_ylim((1e+1,1e+7))\n",
      "\n",
      "\n",
      "\n",
      "ax3.plot(datA[5][:,0],datA[5][:,4],\"--\",label = \"sq. bias\",linewidth=3., rasterized=True)\n",
      "ax3.plot(datA[5][:,0],datA[5][:,5],\"-\",label = \"variance\",linewidth=3., rasterized=True)\n",
      "ax3.plot(datA[5][:,0],datA[5][:,4]+datA[5][:,5],\"-\",label = \"sq. bias + variance\",linewidth=3., rasterized=True)\n",
      "ax3.plot(datA[5][:,0],datA[5][:,6],\"k-\",label = \"squared error\",linewidth=1.5, rasterized=True)\n",
      "ax3.set_title(\"L=300\")\n",
      "ax3.set_xlabel(\"iterations\")\n",
      "ax3.set_yscale(\"log\")\n",
      "ax3.set_xscale(\"log\")\n",
      "ax3.set_xlim((3,3000))\n",
      "ax3.set_ylim((1e+1,1e+7))\n",
      "\n",
      "\n",
      "leg1 = ax1.legend(loc='lower left') \n",
      "leg1._drawFrame=False   \n",
      "\n",
      "######## SECOND ROW #################\n",
      "\n",
      "for i in range(0,6):\n",
      "    ax4.plot(datA[i][:,0],datA[i][:,4],\"-\",label = mylabel(i),linewidth=3., rasterized=True)\n",
      "\n",
      "\n",
      "\n",
      "ax4.set_title(\"squared bias\")\n",
      "ax4.set_xlabel(\"iterations\")\n",
      "ax4.set_ylabel(\"log  scale\")\n",
      "ax4.set_yscale(\"log\")\n",
      "ax4.set_xscale(\"log\")\n",
      "ax4.set_xlim((3,3000))\n",
      "ax4.set_ylim((1e-3,1e+7))\n",
      "\n",
      "for i in range(0,6):\n",
      "    ax5.plot(datA[i][:,0],datA[i][:,5],\"-\",label = mylabel(i),linewidth=3., rasterized=True)\n",
      "\n",
      "ax5.set_title(\"variance\")\n",
      "ax5.set_xlabel(\"iterations\")\n",
      "ax5.set_yscale(\"log\")\n",
      "ax5.set_xscale(\"log\")\n",
      "ax5.set_xlim((3,3000))\n",
      "ax5.set_ylim((1e+3,1e+7))\n",
      "\n",
      "for i in range(0,6):\n",
      "    ax6.plot(datA[i][:,0],datA[i][:,6],\"-\",label = mylabel(i),linewidth=3., rasterized=True)\n",
      "ax6.set_title(\"squared error\")\n",
      "ax6.set_xlabel(\"iterations\")\n",
      "ax6.set_yscale(\"log\")\n",
      "ax6.set_xscale(\"log\")\n",
      "ax6.set_xlim((3,3000))\n",
      "ax6.set_ylim((1e+3,1e+7))\n",
      "\n",
      "leg2 = ax4.legend(loc='lower left') \n",
      "leg2._drawFrame=False\n",
      "\n"
     ],
     "language": "python",
     "metadata": {},
     "outputs": [],
     "prompt_number": 5
    },
    {
     "cell_type": "code",
     "collapsed": false,
     "input": [],
     "language": "python",
     "metadata": {},
     "outputs": []
    }
   ],
   "metadata": {}
  }
 ]
}